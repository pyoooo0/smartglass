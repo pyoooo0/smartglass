{
 "cells": [
  {
   "cell_type": "code",
   "execution_count": 1,
   "metadata": {},
   "outputs": [],
   "source": [
    "import speech_recognition as sr\n",
    "import subprocess\n",
    "import cv2\n",
    "import numpy as np"
   ]
  },
  {
   "cell_type": "code",
   "execution_count": 2,
   "metadata": {},
   "outputs": [],
   "source": [
    "r = sr.Recognizer()\n",
    "mic = sr.Microphone()\n",
    "\n",
    "# possible values list\n",
    "\n",
    "WORDS1 = ['하상집','화상 집','화상집','가상 집','사상 집','상집','하상식','하상 집','화장실','하상진','화성 집','하성식','화성시'\n",
    "         ,'화성 집','빵집','집','왕 집','방 집','화상 집','화상집','가상 집','하 상집','사상 집','화상 집','사당 집','마당 집']\n",
    "WORDS2 = ['김준표','김중표','음표','홍준표','김종표','김진표','임종표']\n",
    "WORDS3 = ['차의성','자위성','자 위성','자위 성','차 위성','차이성','하울의 성','합의성','한의성','의성','차에 성'\n",
    "          ,'위성','이성','휘성','미성','성','차에 의성','차의 성','차의 의성','차 에 성','차 에 위성','차 에 이성'\n",
    "          ,'차 에 유성','차 에 음성','창의성','자의성 이','차 의성','자의 성','차혜성','참외 성','차에 성','혜성','전송','창의성'\n",
    "         ,'차이성','위성','차 위성','의성','인성','음성','위성','은성','차 위성','사위성','타이 성','바위성','차이성','하이성']\n",
    "WORDS4 = ['현광수','변광수','형광 수','형 광수','전광수','향수','방수','장수','강수','양수','전광수','장광수','정광수','변광수'\n",
    "         ,'형광 수','편광 수','형 광수','형광 수','형 광수','현 광수','현광 수']\n",
    "WORDS5 = ['박서윤','박소윤','서윤','더윤','허윤']\n",
    "WORDS6 = ['이유경','이우경','유경','이효경','이윤경','2 6 0','6 0','E60','여경','육영']\n",
    "WORDS7 = ['김하은','임하은','김하온','김하운','김하원','하은이','하은아']\n",
    "\n",
    "WORDS = [WORDS1,WORDS2,WORDS3,WORDS4,WORDS5,WORDS6,WORDS7]\n",
    "\n",
    "with mic as source:\n",
    "    r.adjust_for_ambient_noise(source)\n",
    "    audio = r.listen(source)\n",
    "raw = r.recognize_google(audio,language='ko-KR')\n",
    "\n",
    "for i in WORDS:\n",
    "    if raw in i:\n",
    "        if i[0] == '하상집':\n",
    "            img = cv2.imread('img/sangzip.jpg', 0)   \n",
    "            cv2.imshow('image',img)    # 이미지 출력\n",
    "            cv2.waitKey(0)\n",
    "            cv2.destroyAllWindows()\n",
    "        elif i[0] == '김준표':\n",
    "            img = cv2.imread('img/junpyo.jpg', 0)   \n",
    "            cv2.imshow('image',img)    # 이미지 출력\n",
    "            cv2.waitKey(0)\n",
    "            cv2.destroyAllWindows()\n",
    "        elif i[0] == '차의성':\n",
    "            img = cv2.imread('img/uesung.jpg', 0)   \n",
    "            cv2.imshow('image',img)    # 이미지 출력\n",
    "            cv2.waitKey(0)\n",
    "            cv2.destroyAllWindows()\n",
    "        elif i[0] == '현광수':\n",
    "            img = cv2.imread('img/guangsu.jpg', 0)   \n",
    "            cv2.imshow('image',img)    # 이미지 출력\n",
    "            cv2.waitKey(0)\n",
    "            cv2.destroyAllWindows()\n",
    "        elif i[0] == '박서윤':\n",
    "            img = cv2.imread('img/suyoun.jpg', 0)   \n",
    "            cv2.imshow('image',img)    # 이미지 출력\n",
    "            cv2.waitKey(0)\n",
    "            cv2.destroyAllWindows()\n",
    "        elif i[0] == '이유경':\n",
    "            img = cv2.imread('img/youkung.jpg', 0)   \n",
    "            cv2.imshow('image',img)    # 이미지 출력\n",
    "            cv2.waitKey(0)\n",
    "            cv2.destroyAllWindows()\n",
    "        elif i[0] == '김하은':\n",
    "            img = cv2.imread('img/haun.jpg', 0)   \n",
    "            cv2.imshow('image',img)    # 이미지 출력\n",
    "            cv2.waitKey(0)\n",
    "            cv2.destroyAllWindows() \n",
    "        else:\n",
    "            pass"
   ]
  },
  {
   "cell_type": "code",
   "execution_count": null,
   "metadata": {},
   "outputs": [],
   "source": []
  }
 ],
 "metadata": {
  "kernelspec": {
   "display_name": "Python 3",
   "language": "python",
   "name": "python3"
  },
  "language_info": {
   "codemirror_mode": {
    "name": "ipython",
    "version": 3
   },
   "file_extension": ".py",
   "mimetype": "text/x-python",
   "name": "python",
   "nbconvert_exporter": "python",
   "pygments_lexer": "ipython3",
   "version": "3.7.4"
  }
 },
 "nbformat": 4,
 "nbformat_minor": 2
}
